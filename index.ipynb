{
 "cells": [
  {
   "cell_type": "markdown",
   "metadata": {},
   "source": [
    "# Performing Principal Component Analysis (PCA)\n",
    "\n",
    "## Introduction\n",
    "\n",
    "In this lesson, you'll code PCA from the ground up using NumPy. This should provide you with a deeper understanding of the algorithm and continue to practice your linear algebra skills.\n",
    "\n",
    "## Objectives\n",
    "\n",
    "You will be able to:\n",
    "\n",
    "- Understand the steps required to perform PCA on a given dataset\n",
    "- Understand and explain the role of Eigendecomposition in PCA\n"
   ]
  },
  {
   "cell_type": "markdown",
   "metadata": {},
   "source": [
    "## Step 1: Get some data\n",
    "\n",
    "To start, generate some data for PCA!"
   ]
  },
  {
   "cell_type": "code",
   "execution_count": 1,
   "metadata": {},
   "outputs": [
    {
     "data": {
      "image/png": "[encoded data removed]",
      "text/plain": [
       "<Figure size 432x288 with 1 Axes>"
      ]
     },
     "metadata": {
      "needs_background": "light"
     },
     "output_type": "display_data"
    }
   ],
   "source": [
    "import numpy as np\n",
    "import matplotlib.pyplot as plt\n",
    "%matplotlib inline\n",
    "\n",
    "x1 = np.random.uniform(low=0, high=10, size=100)\n",
    "x2 = [(xi*3)+np.random.normal(scale=2) for xi in x1]\n",
    "plt.scatter(x1,x2);"
   ]
  },
  {
   "cell_type": "markdown",
   "metadata": {},
   "source": [
    "## Step 2: Subtract the mean\n",
    "\n",
    "Next, you have to subtract the mean from each dimension of the data. So, all the $x$ values\n",
    "have $\\bar{x}$ (the mean of the $x$ values of all the data points) subtracted, and all the $y$ values\n",
    "have $\\bar{y}$ subtracted from them. "
   ]
  },
  {
   "cell_type": "code",
   "execution_count": 3,
   "metadata": {},
   "outputs": [
    {
     "data": {
      "text/html": [
       "<div>\n",
       "<style scoped>\n",
       "    .dataframe tbody tr th:only-of-type {\n",
       "        vertical-align: middle;\n",
       "    }\n",
       "\n",
       "    .dataframe tbody tr th {\n",
       "        vertical-align: top;\n",
       "    }\n",
       "\n",
       "    .dataframe thead th {\n",
       "        text-align: right;\n",
       "    }\n",
       "</style>\n",
       "<table border=\"1\" class=\"dataframe\">\n",
       "  <thead>\n",
       "    <tr style=\"text-align: right;\">\n",
       "      <th></th>\n",
       "      <th>x1</th>\n",
       "      <th>x2</th>\n",
       "    </tr>\n",
       "  </thead>\n",
       "  <tbody>\n",
       "    <tr>\n",
       "      <th>0</th>\n",
       "      <td>2.483893</td>\n",
       "      <td>5.119277</td>\n",
       "    </tr>\n",
       "    <tr>\n",
       "      <th>1</th>\n",
       "      <td>9.658370</td>\n",
       "      <td>25.907626</td>\n",
       "    </tr>\n",
       "    <tr>\n",
       "      <th>2</th>\n",
       "      <td>3.900332</td>\n",
       "      <td>14.064277</td>\n",
       "    </tr>\n",
       "    <tr>\n",
       "      <th>3</th>\n",
       "      <td>7.217008</td>\n",
       "      <td>22.337063</td>\n",
       "    </tr>\n",
       "    <tr>\n",
       "      <th>4</th>\n",
       "      <td>3.222898</td>\n",
       "      <td>7.359585</td>\n",
       "    </tr>\n",
       "  </tbody>\n",
       "</table>\n",
       "</div>"
      ],
      "text/plain": [
       "         x1         x2\n",
       "0  2.483893   5.119277\n",
       "1  9.658370  25.907626\n",
       "2  3.900332  14.064277\n",
       "3  7.217008  22.337063\n",
       "4  3.222898   7.359585"
      ]
     },
     "execution_count": 3,
     "metadata": {},
     "output_type": "execute_result"
    }
   ],
   "source": [
    "import pandas as pd\n",
    "\n",
    "data = pd.DataFrame([x1,x2]).transpose()\n",
    "data.columns = ['x1', 'x2']\n",
    "data.head()"
   ]
  },
  {
   "cell_type": "code",
   "execution_count": 4,
   "metadata": {},
   "outputs": [
    {
     "data": {
      "text/plain": [
       "x1     4.870454\n",
       "x2    14.542918\n",
       "dtype: float64"
      ]
     },
     "execution_count": 4,
     "metadata": {},
     "output_type": "execute_result"
    }
   ],
   "source": [
    "data.mean()"
   ]
  },
  {
   "cell_type": "code",
   "execution_count": 5,
   "metadata": {},
   "outputs": [
    {
     "data": {
      "text/html": [
       "<div>\n",
       "<style scoped>\n",
       "    .dataframe tbody tr th:only-of-type {\n",
       "        vertical-align: middle;\n",
       "    }\n",
       "\n",
       "    .dataframe tbody tr th {\n",
       "        vertical-align: top;\n",
       "    }\n",
       "\n",
       "    .dataframe thead th {\n",
       "        text-align: right;\n",
       "    }\n",
       "</style>\n",
       "<table border=\"1\" class=\"dataframe\">\n",
       "  <thead>\n",
       "    <tr style=\"text-align: right;\">\n",
       "      <th></th>\n",
       "      <th>x1</th>\n",
       "      <th>x2</th>\n",
       "    </tr>\n",
       "  </thead>\n",
       "  <tbody>\n",
       "    <tr>\n",
       "      <th>0</th>\n",
       "      <td>-2.386561</td>\n",
       "      <td>-9.423641</td>\n",
       "    </tr>\n",
       "    <tr>\n",
       "      <th>1</th>\n",
       "      <td>4.787916</td>\n",
       "      <td>11.364708</td>\n",
       "    </tr>\n",
       "    <tr>\n",
       "      <th>2</th>\n",
       "      <td>-0.970122</td>\n",
       "      <td>-0.478641</td>\n",
       "    </tr>\n",
       "    <tr>\n",
       "      <th>3</th>\n",
       "      <td>2.346554</td>\n",
       "      <td>7.794145</td>\n",
       "    </tr>\n",
       "    <tr>\n",
       "      <th>4</th>\n",
       "      <td>-1.647556</td>\n",
       "      <td>-7.183332</td>\n",
       "    </tr>\n",
       "  </tbody>\n",
       "</table>\n",
       "</div>"
      ],
      "text/plain": [
       "         x1         x2\n",
       "0 -2.386561  -9.423641\n",
       "1  4.787916  11.364708\n",
       "2 -0.970122  -0.478641\n",
       "3  2.346554   7.794145\n",
       "4 -1.647556  -7.183332"
      ]
     },
     "execution_count": 5,
     "metadata": {},
     "output_type": "execute_result"
    }
   ],
   "source": [
    "mean_centered = data - data.mean()\n",
    "mean_centered.head()"
   ]
  },
  {
   "cell_type": "markdown",
   "metadata": {},
   "source": [
    "## Step 3: Calculate the covariance matrix\n",
    "\n",
    "Now that you have normalized your data, you must now calculate the covariance matrix."
   ]
  },
  {
   "cell_type": "code",
   "execution_count": 6,
   "metadata": {},
   "outputs": [
    {
     "data": {
      "text/plain": [
       "array([[ 8.08654141, 23.90623061],\n",
       "       [23.90623061, 73.90089753]])"
      ]
     },
     "execution_count": 6,
     "metadata": {},
     "output_type": "execute_result"
    }
   ],
   "source": [
    "cov = np.cov([mean_centered.x1, mean_centered.x2])\n",
    "cov"
   ]
  },
  {
   "cell_type": "markdown",
   "metadata": {},
   "source": [
    "## Step 4: Calculate the eigenvectors and eigenvalues of the covariance matrix\n",
    "\n",
    "Now that you've calculated the covariance matrix, its time to compute the associated eigenvectors. These will form the new axes when its time to reproject the dataset on the new basis."
   ]
  },
  {
   "cell_type": "code",
   "execution_count": 7,
   "metadata": {},
   "outputs": [
    {
     "data": {
      "text/plain": [
       "array([[-0.95106338, -0.30899587],\n",
       "       [ 0.30899587, -0.95106338]])"
      ]
     },
     "execution_count": 7,
     "metadata": {},
     "output_type": "execute_result"
    }
   ],
   "source": [
    "eigen_value, eigen_vector = np.linalg.eig(cov)\n",
    "eigen_vector"
   ]
  },
  {
   "cell_type": "code",
   "execution_count": 11,
   "metadata": {},
   "outputs": [
    {
     "name": "stdout",
     "output_type": "stream",
     "text": [
      "[-0.30388695  0.09873139]\n"
     ]
    },
    {
     "data": {
      "text/plain": [
       "array([-0.30388695,  0.09873139])"
      ]
     },
     "execution_count": 11,
     "metadata": {},
     "output_type": "execute_result"
    }
   ],
   "source": [
    "print(cov.dot(eigen_vector[:,0]))\n",
    "eigen_vector[:,0]*eigen_value[0]  # confirm every column is a vector "
   ]
  },
  {
   "cell_type": "code",
   "execution_count": 8,
   "metadata": {},
   "outputs": [
    {
     "data": {
      "text/plain": [
       "array([ 0.31952335, 81.66791559])"
      ]
     },
     "execution_count": 8,
     "metadata": {},
     "output_type": "execute_result"
    }
   ],
   "source": [
    "eigen_value"
   ]
  },
  {
   "cell_type": "markdown",
   "metadata": {},
   "source": [
    "## Step 5: Choosing components and forming a feature vector\n",
    "\n",
    "If you look at the eigenvectors and eigenvalues above, you can see that the eigenvalues have very different values. In fact, it turns out that **the eigenvector with the highest eigenvalue is the principal component of the data set.**\n",
    "\n",
    "\n",
    "In general, once eigenvectors are found from the covariance matrix, the next step is to order them by eigenvalue, highest to lowest. This gives us the components in order of significance. Typically, PCA will be used to reduce the dimensionality of the dataset and, as such, some of these eigenvectors will be subsequently discarded. In general, the smaller the eigenvalue relative to others, the less information encoded within said feature.\n",
    "\n",
    "Finally, you need to form a __feature vector__, which is just a fancy name for a matrix of vectors. This is constructed by taking the eigenvectors that you want to keep from the list of eigenvectors, and forming a matrix with these eigenvectors in the columns as shown below:"
   ]
  },
  {
   "cell_type": "code",
   "execution_count": 15,
   "metadata": {},
   "outputs": [
    {
     "data": {
      "text/plain": [
       "array([[-0.30899587, -0.95106338],\n",
       "       [-0.95106338,  0.30899587]])"
      ]
     },
     "execution_count": 15,
     "metadata": {},
     "output_type": "execute_result"
    }
   ],
   "source": [
    "e_indices = np.argsort(eigen_value)[::-1] #Get the index values of the sorted eigenvalues\n",
    "eigenvectors_sorted = eigen_vector[:,e_indices]\n",
    "eigenvectors_sorted"
   ]
  },
  {
   "cell_type": "markdown",
   "metadata": {},
   "source": [
    "## Step 5: Deriving the new data set"
   ]
  },
  {
   "cell_type": "markdown",
   "metadata": {},
   "source": [
    "This the final step in PCA, and is also the easiest. Once you have chosen the components (eigenvectors) that you wish to keep in our data and formed a feature vector, you simply take the transpose of the vector and multiply it on the left of the original data set, transposed."
   ]
  },
  {
   "cell_type": "code",
   "execution_count": 17,
   "metadata": {},
   "outputs": [
    {
     "data": {
      "text/html": [
       "<div>\n",
       "<style scoped>\n",
       "    .dataframe tbody tr th:only-of-type {\n",
       "        vertical-align: middle;\n",
       "    }\n",
       "\n",
       "    .dataframe tbody tr th {\n",
       "        vertical-align: top;\n",
       "    }\n",
       "\n",
       "    .dataframe thead th {\n",
       "        text-align: right;\n",
       "    }\n",
       "</style>\n",
       "<table border=\"1\" class=\"dataframe\">\n",
       "  <thead>\n",
       "    <tr style=\"text-align: right;\">\n",
       "      <th></th>\n",
       "      <th>0</th>\n",
       "      <th>1</th>\n",
       "      <th>2</th>\n",
       "      <th>3</th>\n",
       "      <th>4</th>\n",
       "      <th>5</th>\n",
       "      <th>6</th>\n",
       "      <th>7</th>\n",
       "      <th>8</th>\n",
       "      <th>9</th>\n",
       "      <th>...</th>\n",
       "      <th>90</th>\n",
       "      <th>91</th>\n",
       "      <th>92</th>\n",
       "      <th>93</th>\n",
       "      <th>94</th>\n",
       "      <th>95</th>\n",
       "      <th>96</th>\n",
       "      <th>97</th>\n",
       "      <th>98</th>\n",
       "      <th>99</th>\n",
       "    </tr>\n",
       "  </thead>\n",
       "  <tbody>\n",
       "    <tr>\n",
       "      <th>x1</th>\n",
       "      <td>-2.386561</td>\n",
       "      <td>4.787916</td>\n",
       "      <td>-0.970122</td>\n",
       "      <td>2.346554</td>\n",
       "      <td>-1.647556</td>\n",
       "      <td>0.996478</td>\n",
       "      <td>2.361713</td>\n",
       "      <td>-3.580890</td>\n",
       "      <td>-4.123249</td>\n",
       "      <td>0.683032</td>\n",
       "      <td>...</td>\n",
       "      <td>2.410990</td>\n",
       "      <td>2.209633</td>\n",
       "      <td>2.857979</td>\n",
       "      <td>-3.303236</td>\n",
       "      <td>3.896352</td>\n",
       "      <td>5.022083</td>\n",
       "      <td>-0.530186</td>\n",
       "      <td>0.638742</td>\n",
       "      <td>4.106924</td>\n",
       "      <td>0.221524</td>\n",
       "    </tr>\n",
       "    <tr>\n",
       "      <th>x2</th>\n",
       "      <td>-9.423641</td>\n",
       "      <td>11.364708</td>\n",
       "      <td>-0.478641</td>\n",
       "      <td>7.794145</td>\n",
       "      <td>-7.183332</td>\n",
       "      <td>3.094106</td>\n",
       "      <td>6.255920</td>\n",
       "      <td>-13.823486</td>\n",
       "      <td>-11.368730</td>\n",
       "      <td>3.227297</td>\n",
       "      <td>...</td>\n",
       "      <td>6.080608</td>\n",
       "      <td>7.573941</td>\n",
       "      <td>12.370656</td>\n",
       "      <td>-6.909403</td>\n",
       "      <td>10.275328</td>\n",
       "      <td>10.606067</td>\n",
       "      <td>-2.918950</td>\n",
       "      <td>-0.094745</td>\n",
       "      <td>9.940547</td>\n",
       "      <td>4.689984</td>\n",
       "    </tr>\n",
       "  </tbody>\n",
       "</table>\n",
       "<p>2 rows × 100 columns</p>\n",
       "</div>"
      ],
      "text/plain": [
       "          0          1         2         3         4         5         6   \\\n",
       "x1 -2.386561   4.787916 -0.970122  2.346554 -1.647556  0.996478  2.361713   \n",
       "x2 -9.423641  11.364708 -0.478641  7.794145 -7.183332  3.094106  6.255920   \n",
       "\n",
       "           7          8         9     ...           90        91         92  \\\n",
       "x1  -3.580890  -4.123249  0.683032    ...     2.410990  2.209633   2.857979   \n",
       "x2 -13.823486 -11.368730  3.227297    ...     6.080608  7.573941  12.370656   \n",
       "\n",
       "          93         94         95        96        97        98        99  \n",
       "x1 -3.303236   3.896352   5.022083 -0.530186  0.638742  4.106924  0.221524  \n",
       "x2 -6.909403  10.275328  10.606067 -2.918950 -0.094745  9.940547  4.689984  \n",
       "\n",
       "[2 rows x 100 columns]"
      ]
     },
     "execution_count": 17,
     "metadata": {},
     "output_type": "execute_result"
    }
   ],
   "source": [
    "mean_centered.T"
   ]
  },
  {
   "cell_type": "code",
   "execution_count": 16,
   "metadata": {},
   "outputs": [
    {
     "data": {
      "text/plain": [
       "array([[ 9.69991743e+00, -6.42094870e-01],\n",
       "       [-1.22880040e+01, -1.04196330e+00],\n",
       "       [ 7.54981355e-01,  7.74750006e-01],\n",
       "       [-8.13780182e+00,  1.76636938e-01],\n",
       "       [ 7.34089258e+00, -6.52689538e-01],\n",
       "       [-3.25059852e+00,  8.35204373e-03],\n",
       "       [-6.67953596e+00, -3.13085135e-01],\n",
       "       [ 1.42534912e+01, -8.65747010e-01],\n",
       "       [ 1.20864497e+01,  4.08580649e-01],\n",
       "       [-3.28041808e+00,  3.47614439e-01],\n",
       "       [ 1.16062873e+01,  2.96462915e-01],\n",
       "       [-7.36581104e+00,  2.09470008e-02],\n",
       "       [-1.19541130e+01,  7.61918243e-01],\n",
       "       [ 1.05559380e+01,  2.15111620e-01],\n",
       "       [ 1.66054566e+01, -1.10522796e+00],\n",
       "       [-4.92935434e+00, -1.05229477e+00],\n",
       "       [-5.23664224e+00,  4.98753599e-01],\n",
       "       [ 1.37468638e+01,  2.00748725e-02],\n",
       "       [ 1.51867067e+01, -8.77294121e-01],\n",
       "       [-1.48216845e+00,  2.35515702e-01],\n",
       "       [-6.38658179e+00,  2.45155694e-01],\n",
       "       [ 1.09481463e+01, -2.74909866e-01],\n",
       "       [-4.04459706e-01,  3.48612554e-01],\n",
       "       [ 1.30606037e+01,  4.36055029e-01],\n",
       "       [ 7.13963115e+00,  6.36480538e-01],\n",
       "       [-7.96671434e+00,  1.68571473e-01],\n",
       "       [ 9.56004623e+00,  1.11214068e+00],\n",
       "       [-8.24771277e-01, -2.60168227e-01],\n",
       "       [ 4.54119291e+00,  8.38553286e-02],\n",
       "       [ 4.94996332e+00,  3.20554517e-01],\n",
       "       [-1.32191513e+01, -5.77280735e-01],\n",
       "       [ 9.84383513e+00, -1.47962204e-01],\n",
       "       [-1.16513558e+01, -2.51063059e-01],\n",
       "       [-3.33093153e+00,  1.58837617e+00],\n",
       "       [ 1.45130913e+01,  3.01650253e-01],\n",
       "       [-8.37783724e+00,  7.13761063e-01],\n",
       "       [-7.96698831e+00, -4.94292677e-01],\n",
       "       [-1.23651418e+01,  6.44725587e-01],\n",
       "       [ 1.40080762e-01,  1.77626045e-01],\n",
       "       [-1.17733977e+01, -3.07252608e-01],\n",
       "       [ 7.96350705e+00,  3.95782266e-01],\n",
       "       [ 1.16550452e+01, -2.11850924e-01],\n",
       "       [ 1.10249933e+01,  5.84940721e-01],\n",
       "       [-9.19584438e+00,  7.06128657e-01],\n",
       "       [-4.68766907e+00, -3.72535423e-01],\n",
       "       [ 4.17180646e+00, -6.09158804e-01],\n",
       "       [ 1.23022707e+01,  9.51476155e-01],\n",
       "       [-8.53579035e+00,  1.18718882e+00],\n",
       "       [ 2.03449523e+00,  2.88727593e-01],\n",
       "       [ 3.32664870e+00, -2.55064853e-02],\n",
       "       [ 6.18375487e+00, -2.05038335e-01],\n",
       "       [-1.51126126e+00, -1.54542813e-01],\n",
       "       [ 5.46272178e+00, -2.30050279e-01],\n",
       "       [ 6.16075744e+00, -3.61017968e-01],\n",
       "       [-2.60990185e+00,  5.34541482e-02],\n",
       "       [-1.15803664e+01,  7.59547625e-02],\n",
       "       [-1.56747019e+01,  2.53903931e-01],\n",
       "       [ 9.03724606e+00, -4.43134954e-01],\n",
       "       [-8.63500733e-01,  4.17203420e-01],\n",
       "       [-1.16146842e+00, -9.81109974e-02],\n",
       "       [-1.76658625e+00, -2.68399736e-01],\n",
       "       [-4.78221761e+00, -2.63216242e-01],\n",
       "       [-5.76325037e-01, -3.33730686e-01],\n",
       "       [ 6.88580962e+00,  1.29828354e-01],\n",
       "       [ 1.34613782e+01, -1.56995389e-01],\n",
       "       [-1.56384095e+01, -3.34664382e-02],\n",
       "       [-5.22955040e+00, -2.87957301e-01],\n",
       "       [-9.96417791e+00,  5.20941501e-01],\n",
       "       [ 2.73934163e+00, -4.48735484e-02],\n",
       "       [ 1.44858292e+01, -3.02706992e-01],\n",
       "       [-1.30157536e+01, -1.82799675e-01],\n",
       "       [-1.46640369e+01, -5.98562839e-01],\n",
       "       [ 1.56711268e+01, -1.00406045e+00],\n",
       "       [-7.37375081e+00, -2.45983802e-01],\n",
       "       [ 6.31182866e-01,  3.04284596e-01],\n",
       "       [-7.53698562e+00, -5.16947575e-01],\n",
       "       [ 3.14395396e+00,  1.76276640e-01],\n",
       "       [-1.45063202e+01, -4.39371645e-01],\n",
       "       [ 5.92349014e+00, -5.20400317e-01],\n",
       "       [ 4.35228094e-01,  3.69048344e-01],\n",
       "       [ 1.32689730e+01,  1.58377956e-01],\n",
       "       [ 1.05621496e+01, -6.76134809e-02],\n",
       "       [ 7.55280903e-01,  8.06297039e-02],\n",
       "       [ 8.63541700e-01,  7.19364749e-01],\n",
       "       [-8.85537576e+00,  2.22304756e-01],\n",
       "       [ 8.43654812e-01, -1.30481504e-01],\n",
       "       [ 6.30099124e-01, -4.46053257e-02],\n",
       "       [ 3.13760093e+00, -4.17198737e-01],\n",
       "       [-9.55331735e+00, -6.11727000e-01],\n",
       "       [ 1.33647892e+01,  6.31656381e-01],\n",
       "       [-6.52802934e+00, -4.14121722e-01],\n",
       "       [-7.88606517e+00,  2.38814860e-01],\n",
       "       [-1.26483812e+01,  1.10436243e+00],\n",
       "       [ 7.59196621e+00,  1.00660985e+00],\n",
       "       [-1.09764449e+01, -5.30643546e-01],\n",
       "       [-1.16388450e+01, -1.49908808e+00],\n",
       "       [ 2.93993212e+00, -3.97703351e-01],\n",
       "       [-1.07260120e-01, -6.36760404e-01],\n",
       "       [-1.07231131e+01, -8.34357462e-01],\n",
       "       [-4.52892209e+00,  1.23850275e+00]])"
      ]
     },
     "execution_count": 16,
     "metadata": {},
     "output_type": "execute_result"
    }
   ],
   "source": [
    "transformed = eigenvectors_sorted.dot(mean_centered.T).T\n",
    "transformed"
   ]
  },
  {
   "cell_type": "markdown",
   "metadata": {},
   "source": [
    "## Summary \n",
    "\n",
    "That's it! You just coded PCA on your own using NumPy! In the next lab, you'll continue to practice this on your own!"
   ]
  }
 ],
 "metadata": {
  "kernelspec": {
   "display_name": "Python 3",
   "language": "python",
   "name": "python3"
  },
  "language_info": {
   "codemirror_mode": {
    "name": "ipython",
    "version": 3
   },
   "file_extension": ".py",
   "mimetype": "text/x-python",
   "name": "python",
   "nbconvert_exporter": "python",
   "pygments_lexer": "ipython3",
   "version": "3.6.6"
  }
 },
 "nbformat": 4,
 "nbformat_minor": 2
}
